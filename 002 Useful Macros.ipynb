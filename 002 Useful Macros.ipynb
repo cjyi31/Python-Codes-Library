{
 "cells": [
  {
   "cell_type": "markdown",
   "metadata": {},
   "source": [
    "This is a collection of all useful functions or Macros for data cleaning and modifications. This is for learning purposes.\n",
    "\n",
    "\n",
    "Created by: Grace Choo\n",
    "\n",
    "Date of Creation: 02 November 2022"
   ]
  },
  {
   "cell_type": "markdown",
   "metadata": {},
   "source": [
    "Note: The ones with Header 2/Level 2 headings are explainations on how it should/can be used. Pay attention to the list of python packages needed to run the macro successfully."
   ]
  },
  {
   "cell_type": "markdown",
   "metadata": {},
   "source": [
    "# Export df to sql server"
   ]
  },
  {
   "cell_type": "code",
   "execution_count": null,
   "metadata": {},
   "outputs": [],
   "source": [
    "import urllib\n",
    "from sqlalchemy import create_engine\n",
    "\n",
    "def to_sql(df, table, server, database):\n",
    "    odbc_str = 'DRIVER={ODBC Driver 17 for SQL Server};SERVER='+server+';DATABASE='+database+';Trusted_Connection=yes;'\n",
    "    connect_str = 'mssql+pyodbc:///?odbc_connect=' + urllib.parse.quote_plus(odbc_str)\n",
    "    engine = create_engine(connect_str)\n",
    "    df.to_sql(table, engine, if_exists = \"replace\", index=False, chunksize = 100)"
   ]
  },
  {
   "cell_type": "markdown",
   "metadata": {},
   "source": [
    "## To Execute"
   ]
  },
  {
   "cell_type": "code",
   "execution_count": null,
   "metadata": {},
   "outputs": [],
   "source": [
    "to_sql(df, 'Insert your sql table name here', 'Insert your server name here', 'Insert your database here')"
   ]
  },
  {
   "cell_type": "markdown",
   "metadata": {},
   "source": [
    "# Encrypt and Decrypt Functions"
   ]
  },
  {
   "cell_type": "code",
   "execution_count": null,
   "metadata": {},
   "outputs": [],
   "source": [
    "def get_cipherletter(new_key, letter):\n",
    "    #still need alpha to find letters\n",
    "    alpha = \"ABCDEFGHIJKLMNOPQRSTUVWXYZ0123456789\"\n",
    "    \n",
    "    if letter in alpha:\n",
    "        return alpha[new_key]\n",
    "    else:\n",
    "        return letter\n",
    "\n",
    "def encrypt(key, message):\n",
    "    message = message.upper()\n",
    "    alpha = \"ABCDEFGHIJKLMNOPQRSTUVWXYZ0123456789\"\n",
    "    result = \"\"\n",
    "\n",
    "    for letter in message:\n",
    "        new_key = (alpha.find(letter) + key) % len(alpha)\n",
    "        result = result + get_cipherletter(new_key, letter)\n",
    "    return result\n",
    "\n",
    "def decrypt(key, message):\n",
    "    message = message.upper()\n",
    "    alpha = \"ABCDEFGHIJKLMNOPQRSTUVWXYZ0123456789\"\n",
    "    result = \"\"\n",
    "\n",
    "    for letter in message:\n",
    "        new_key = (alpha.find(letter) - key) % len(alpha)\n",
    "        result = result + get_cipherletter(new_key, letter)\n",
    "    return result"
   ]
  },
  {
   "cell_type": "markdown",
   "metadata": {},
   "source": [
    "## Test to encrypt column"
   ]
  },
  {
   "cell_type": "code",
   "execution_count": null,
   "metadata": {},
   "outputs": [],
   "source": [
    "df['Unique_ID1'] = df['Unique_ID'].apply(lambda x: encrypt(-8, x))"
   ]
  },
  {
   "cell_type": "markdown",
   "metadata": {},
   "source": [
    "## Test to decrypt column"
   ]
  },
  {
   "cell_type": "code",
   "execution_count": null,
   "metadata": {},
   "outputs": [],
   "source": [
    "df['Unique_ID2'] = df['Unique_ID1'].apply(lambda x: decrypt(-8, x))"
   ]
  },
  {
   "cell_type": "markdown",
   "metadata": {},
   "source": [
    "# Last Day of the Month"
   ]
  },
  {
   "cell_type": "code",
   "execution_count": null,
   "metadata": {},
   "outputs": [],
   "source": [
    "import datetime as dt\n",
    "from dateutil.relativedelta import relativedelta\n",
    "def last_day_of_month(datevar):\n",
    "    #if it is december, then straight away assign to 31 DEC YYYY\n",
    "    if datevar.month == 12:\n",
    "        return datevar.replace(day=31)\n",
    "    #if it is other months then first force the date to be 01 MMM YYYY and then move the date to 1 month later then -1 day.\n",
    "    return dt.date(datevar.year, datevar.month, 1) + relativedelta(months=1) -  relativedelta(days=1)"
   ]
  },
  {
   "cell_type": "markdown",
   "metadata": {},
   "source": [
    "## Test the macro"
   ]
  },
  {
   "cell_type": "code",
   "execution_count": null,
   "metadata": {},
   "outputs": [],
   "source": [
    "import datetime as dt\n",
    "from datetime import date\n",
    "from dateutil.relativedelta import relativedelta\n",
    "\n",
    "#Today's Date\n",
    "today = date.today()\n",
    "print(\"Today's date is: \",today)\n",
    "\n",
    "#Use last_day_of_month(datevar) macro\n",
    "print(\"Last Day of the month is : \", last_day_of_month(today))"
   ]
  },
  {
   "cell_type": "code",
   "execution_count": null,
   "metadata": {},
   "outputs": [],
   "source": []
  },
  {
   "cell_type": "markdown",
   "metadata": {},
   "source": [
    "# Timer Start and Ends"
   ]
  },
  {
   "cell_type": "code",
   "execution_count": null,
   "metadata": {},
   "outputs": [],
   "source": [
    "import datetime as dt\n",
    "import timeit\n",
    "\n",
    "def Macro_CountTimerStarts():\n",
    "    currentDT = dt.datetime.now()\n",
    "    print(\"Program Starts Now:\")\n",
    "    print (currentDT.strftime(\"%I:%M:%S %p\"))\n",
    "\n",
    "#Record Date time\n",
    "time_start = timeit.default_timer()\n",
    "\n",
    "\n",
    "def Macro_CountTimerEnds():\n",
    "    #End Program\n",
    "    time_taken = timeit.default_timer() - time_start\n",
    "    minutes_taken = str(dt.timedelta(seconds=time_taken))\n",
    "    \n",
    "    EndDT = dt.datetime.now()\n",
    "    print(\"Program Ends Now:\")\n",
    "    print (EndDT.strftime(\"%I:%M:%S %p\"))\n",
    "    print(f\"Time taken: {minutes_taken}\")\n"
   ]
  },
  {
   "cell_type": "markdown",
   "metadata": {},
   "source": [
    "## Test the macro"
   ]
  },
  {
   "cell_type": "code",
   "execution_count": null,
   "metadata": {},
   "outputs": [],
   "source": [
    "Macro_CountTimerStarts()"
   ]
  },
  {
   "cell_type": "code",
   "execution_count": null,
   "metadata": {},
   "outputs": [],
   "source": [
    "Macro_CountTimerEnds()"
   ]
  },
  {
   "cell_type": "code",
   "execution_count": null,
   "metadata": {},
   "outputs": [],
   "source": []
  },
  {
   "cell_type": "markdown",
   "metadata": {},
   "source": [
    "# List out file names using patterns"
   ]
  },
  {
   "cell_type": "code",
   "execution_count": null,
   "metadata": {},
   "outputs": [],
   "source": [
    "import os, fnmatch\n",
    "import os.path\n",
    "\n",
    "\n",
    "def F_findFile(pattern, path):\n",
    "    result = []\n",
    "    for root, dirs, files in os.walk(path):\n",
    "        for name in files:\n",
    "            if fnmatch.fnmatch(name, pattern):\n",
    "                result.append(os.path.join(name))\n",
    "    return result\n"
   ]
  },
  {
   "cell_type": "markdown",
   "metadata": {},
   "source": [
    "## To execute"
   ]
  },
  {
   "cell_type": "code",
   "execution_count": null,
   "metadata": {},
   "outputs": [],
   "source": [
    "#To find file with names contains 'GIGT' and .xlsx format\n",
    "F_findFile('*GIGT*.xlsx', r'C:\\Users\\Grace.Choo\\OneDrive - Zurich APAC')"
   ]
  },
  {
   "cell_type": "code",
   "execution_count": null,
   "metadata": {},
   "outputs": [],
   "source": []
  },
  {
   "cell_type": "markdown",
   "metadata": {},
   "source": [
    "# Keep numbers only"
   ]
  },
  {
   "cell_type": "code",
   "execution_count": null,
   "metadata": {},
   "outputs": [],
   "source": [
    "#To only keep numbers in pandas column. like for cleaning of NewIC numbers:\n",
    "import re as re\n",
    "def find_number(text):\n",
    "    num = re.findall(r'[0-9]+',text)\n",
    "    return \" \".join(num)"
   ]
  },
  {
   "cell_type": "markdown",
   "metadata": {},
   "source": [
    "## To execute"
   ]
  },
  {
   "cell_type": "code",
   "execution_count": null,
   "metadata": {},
   "outputs": [],
   "source": [
    "df['COL1']=df['COL1'].apply(lambda x: find_number(x))"
   ]
  },
  {
   "cell_type": "code",
   "execution_count": null,
   "metadata": {},
   "outputs": [],
   "source": []
  },
  {
   "cell_type": "markdown",
   "metadata": {},
   "source": [
    "# Identify Commercial Customers based on their Name"
   ]
  },
  {
   "cell_type": "code",
   "execution_count": null,
   "metadata": {},
   "outputs": [],
   "source": [
    "def ClientTypeC(df,LookupNameCol,ClientTypeCol):\n",
    "    \n",
    "    df[LookupNameCol]=df[LookupNameCol].str.upper()\n",
    "    df[LookupNameCol]=df[LookupNameCol].str.replace('\\s+', ' ', regex=True)\n",
    "   \n",
    "    \n",
    "    df[LookupNameCol]=df[LookupNameCol].astype(str).str.replace(\"SDNBHD\",\"SDN BHD\")\n",
    "    df[LookupNameCol]=df[LookupNameCol].astype(str).str.replace(\"SDNBIN\",\"SDN BHD\")\n",
    "    \n",
    "    df.loc[df[LookupNameCol].str.contains(r'\\bPARTNER\\b',regex=True),ClientTypeCol]='C'\n",
    "    df.loc[df[LookupNameCol].str.contains(r'\\bINTERNATIO\\b',regex=True),ClientTypeCol]='C'\n",
    "    df.loc[df[LookupNameCol].str.contains(r'\\bFINANC\\b',regex=True),ClientTypeCol]='C'\n",
    "    df.loc[df[LookupNameCol].str.contains(r'\\b ADVIS\\b',regex=True),ClientTypeCol]='C'\n",
    "    df.loc[df[LookupNameCol].str.contains(r'\\b CAPIT\\b',regex=True),ClientTypeCol]='C'\n",
    "    df.loc[df[LookupNameCol].str.contains(r'\\bWEALTH \\b',regex=True),ClientTypeCol]='C'\n",
    "    df.loc[df[LookupNameCol].str.contains(r'\\bSUNGAI PETANI\\b',regex=True),ClientTypeCol]='C'\n",
    "    df.loc[df[LookupNameCol].str.contains(r'\\bDIRECT ACCOUNTS\\b',regex=True),ClientTypeCol]='C'\n",
    "    df.loc[df[LookupNameCol].str.contains(r'\\bINSTITUTIONAL CLIENTS\\b',regex=True),ClientTypeCol]='C'\n",
    "    df.loc[df[LookupNameCol].str.contains(r'\\bPOS MALAYSIA\\b',regex=True),ClientTypeCol]='C'\n",
    "    df.loc[df[LookupNameCol].str.contains(r'\\bMBSB\\b',regex=True),ClientTypeCol]='C'\n",
    "    df.loc[df[LookupNameCol].str.contains(r'\\bDINERS CLUB\\b',regex=True),ClientTypeCol]='C'\n",
    "    df.loc[df[LookupNameCol].str.contains(r'\\bPLAZA ZURICHPJ\\b',regex=True),ClientTypeCol]='C'\n",
    "    df.loc[df[LookupNameCol].str.contains(r'\\b DIRECT\\b',regex=True),ClientTypeCol]='C'\n",
    "    df.loc[df[LookupNameCol].str.contains(r'\\b CONSUL\\b',regex=True),ClientTypeCol]='C'\n",
    "    df.loc[df[LookupNameCol].str.contains(r'\\b BROKER\\b',regex=True),ClientTypeCol]='C'\n",
    "    df.loc[df[LookupNameCol].str.contains(r'\\bEMPIRE\\b',regex=True),ClientTypeCol]='C'\n",
    "    df.loc[df[LookupNameCol].str.contains(r'\\bADVISORY\\b',regex=True),ClientTypeCol]='C'\n",
    "    df.loc[df[LookupNameCol].str.contains(r'\\bAGENCIES\\b',regex=True),ClientTypeCol]='C'\n",
    "    df.loc[df[LookupNameCol].str.contains(r'\\bAGENCY\\b',regex=True),ClientTypeCol]='C'\n",
    "    df.loc[df[LookupNameCol].str.contains(r'\\bAGENT\\b',regex=True),ClientTypeCol]='C'\n",
    "    df.loc[df[LookupNameCol].str.contains(r'\\bBANK\\b',regex=True),ClientTypeCol]='C'\n",
    "    df.loc[df[LookupNameCol].str.contains(r'\\bGROUP\\b',regex=True),ClientTypeCol]='C'\n",
    "    df.loc[df[LookupNameCol].str.contains(r'\\bCONSULTING\\b',regex=True),ClientTypeCol]='C'\n",
    "    df.loc[df[LookupNameCol].str.contains(r'\\bPOS TAKAFUL\\b',regex=True),ClientTypeCol]='C'\n",
    "    df.loc[df[LookupNameCol].str.contains(r'\\bWEALTH PLANNERS\\b',regex=True),ClientTypeCol]='C'\n",
    "    df.loc[df[LookupNameCol].str.contains(r'\\bAUTO \\b',regex=True),ClientTypeCol]='C'\n",
    "    df.loc[df[LookupNameCol].str.contains(r'\\bVENTURE\\b',regex=True),ClientTypeCol]='C'\n",
    "    df.loc[df[LookupNameCol].str.contains(r'\\bAUTOTECH\\b',regex=True),ClientTypeCol]='C'\n",
    "    df.loc[df[LookupNameCol].str.contains(r'\\bCONSULTANT\\b',regex=True),ClientTypeCol]='C'\n",
    "    df.loc[df[LookupNameCol].str.contains(r'\\bURUSNIAGA\\b',regex=True),ClientTypeCol]='C'\n",
    "    df.loc[df[LookupNameCol].str.contains(r'\\bSDN BHD\\b',regex=True),ClientTypeCol]='C'\n",
    "    df.loc[df[LookupNameCol].str.contains(r'\\bASSOCIATES\\b',regex=True),ClientTypeCol]='C'\n",
    "    df.loc[df[LookupNameCol].str.contains(r'\\bDAGANG\\b',regex=True),ClientTypeCol]='C'\n",
    "    df.loc[df[LookupNameCol].str.contains(r'\\b CAFE\\b',regex=True),ClientTypeCol]='C'\n",
    "    df.loc[df[LookupNameCol].str.contains(r'\\bNETWORKS\\b',regex=True),ClientTypeCol]='C'\n",
    "    df.loc[df[LookupNameCol].str.contains(r'\\bHEALTHCARE\\b',regex=True),ClientTypeCol]='C'\n",
    "    df.loc[df[LookupNameCol].str.contains(r'\\bAGENCY\\b',regex=True),ClientTypeCol]='C'\n",
    "    df.loc[df[LookupNameCol].str.contains(r'\\bSDN \\b',regex=True),ClientTypeCol]='C'\n",
    "    df.loc[df[LookupNameCol].str.contains(r'\\bBHD\\b',regex=True),ClientTypeCol]='C'\n",
    "    df.loc[df[LookupNameCol].str.contains(r'\\bSENDIRIAN\\b',regex=True),ClientTypeCol]='C'\n",
    "    df.loc[df[LookupNameCol].str.contains(r'\\bBERHAD\\b',regex=True),ClientTypeCol]='C'\n",
    "    df.loc[df[LookupNameCol].str.contains(r'\\bCONSTRUCT\\b',regex=True),ClientTypeCol]='C'\n",
    "    df.loc[df[LookupNameCol].str.contains(r'\\bTRADE\\b',regex=True),ClientTypeCol]='C'\n",
    "    df.loc[df[LookupNameCol].str.contains(r'\\bTRADING\\b',regex=True),ClientTypeCol]='C'\n",
    "    df.loc[df[LookupNameCol].str.contains(r'\\bENTERP\\b',regex=True),ClientTypeCol]='C'\n",
    "    df.loc[df[LookupNameCol].str.contains(r'\\bENGINEE\\b',regex=True),ClientTypeCol]='C'\n",
    "    df.loc[df[LookupNameCol].str.contains(r'\\bINDUS\\b',regex=True),ClientTypeCol]='C'\n",
    "    df.loc[df[LookupNameCol].str.contains(r'\\bDEVELOP\\b',regex=True),ClientTypeCol]='C'\n",
    "    df.loc[df[LookupNameCol].str.contains(r'\\bMAJL\\b',regex=True),ClientTypeCol]='C'\n",
    "    df.loc[df[LookupNameCol].str.contains(r'\\bKEDAI\\b',regex=True),ClientTypeCol]='C'\n",
    "    df.loc[df[LookupNameCol].str.contains(r'\\bHOLDI\\b',regex=True),ClientTypeCol]='C'\n",
    "    df.loc[df[LookupNameCol].str.contains(r'\\bUNIVE\\b',regex=True),ClientTypeCol]='C'\n",
    "    df.loc[df[LookupNameCol].str.contains(r'\\bSERVI\\b',regex=True),ClientTypeCol]='C'\n",
    "    df.loc[df[LookupNameCol].str.contains(r'\\bSYARIKAT\\b',regex=True),ClientTypeCol]='C'\n",
    "    df.loc[df[LookupNameCol].str.contains(r'\\bCORPOR\\b',regex=True),ClientTypeCol]='C'\n",
    "    df.loc[df[LookupNameCol].str.contains(r'\\bCENTRE\\b',regex=True),ClientTypeCol]='C'\n",
    "    df.loc[df[LookupNameCol].str.contains(r'\\bMANUFAC\\b',regex=True),ClientTypeCol]='C'\n",
    "    df.loc[df[LookupNameCol].str.contains(r'\\bACADEMY\\b',regex=True),ClientTypeCol]='C'\n",
    "    df.loc[df[LookupNameCol].str.contains(r'\\bAUTO PART\\b',regex=True),ClientTypeCol]='C'\n",
    "    df.loc[df[LookupNameCol].str.contains(r'\\bSOLUTION\\b',regex=True),ClientTypeCol]='C'\n",
    "    df.loc[df[LookupNameCol].str.contains(r'\\bWORLD\\b',regex=True),ClientTypeCol]='C'\n",
    "    df.loc[df[LookupNameCol].str.contains(r'\\bCOLLECTIONS\\b',regex=True),ClientTypeCol]='C'\n",
    "    df.loc[df[LookupNameCol].str.contains(r'\\bKLINIK\\b',regex=True),ClientTypeCol]='C'\n",
    "    df.loc[df[LookupNameCol].str.contains(r'\\bCHILDCARE\\b',regex=True),ClientTypeCol]='C'\n",
    "    df.loc[df[LookupNameCol].str.contains(r'\\bTABUNG\\b',regex=True),ClientTypeCol]='C'\n",
    "    df.loc[df[LookupNameCol].str.contains(r'\\bWISMA \\b',regex=True),ClientTypeCol]='C'\n",
    "    df.loc[df[LookupNameCol].str.contains(r'\\bTECHNIC\\b',regex=True),ClientTypeCol]='C'\n",
    "    df.loc[df[LookupNameCol].str.contains(r'\\bPUSAT\\b',regex=True),ClientTypeCol]='C'\n",
    "    df.loc[df[LookupNameCol].str.contains(r'\\bPOLIKLINIK\\b',regex=True),ClientTypeCol]='C'\n",
    "    df.loc[df[LookupNameCol].str.contains(r'\\bPERNIAGAAN\\b',regex=True),ClientTypeCol]='C'\n",
    "    df.loc[df[LookupNameCol].str.contains(r'\\bPERBADANAN\\b',regex=True),ClientTypeCol]='C'\n",
    "    df.loc[df[LookupNameCol].str.contains(r'\\bPELANDUK EMAS\\b',regex=True),ClientTypeCol]='C'\n",
    "    df.loc[df[LookupNameCol].str.contains(r'\\bTELESHOP\\b',regex=True),ClientTypeCol]='C'\n",
    "    df.loc[df[LookupNameCol].str.contains(r'\\bCONSULTANCY\\b',regex=True),ClientTypeCol]='C'\n",
    "    df.loc[df[LookupNameCol].str.contains(r'\\bOPTIKAL\\b',regex=True),ClientTypeCol]='C'\n",
    "    df.loc[df[LookupNameCol].str.contains(r'\\bCOLLECTION\\b',regex=True),ClientTypeCol]='C'\n",
    "    df.loc[df[LookupNameCol].str.contains(r'\\bRESOURCES\\b',regex=True),ClientTypeCol]='C'\n",
    "    df.loc[df[LookupNameCol].str.contains(r'\\bFARMASI\\b',regex=True),ClientTypeCol]='C'\n",
    "    df.loc[df[LookupNameCol].str.contains(r'\\bHARDWARE\\b',regex=True),ClientTypeCol]='C'\n",
    "    df.loc[df[LookupNameCol].str.contains(r'\\bAPOTEK\\b',regex=True),ClientTypeCol]='C'\n",
    "    df.loc[df[LookupNameCol].str.contains(r'\\bEDUCATION\\b',regex=True),ClientTypeCol]='C'\n",
    "    df.loc[df[LookupNameCol].str.contains(r'\\bMARKETING\\b',regex=True),ClientTypeCol]='C'\n",
    "    df.loc[df[LookupNameCol].str.contains(r'\\bMANAGEMENT\\b',regex=True),ClientTypeCol]='C'\n",
    "    df.loc[df[LookupNameCol].str.contains(r'\\bEQUIPMENT\\b',regex=True),ClientTypeCol]='C'\n",
    "    df.loc[df[LookupNameCol].str.contains(r'\\bPRINTING SDN BHD\\b',regex=True),ClientTypeCol]='C'\n",
    "    df.loc[df[LookupNameCol].str.contains(r'\\bPRINTING\\b',regex=True),ClientTypeCol]='C'\n",
    "    df.loc[df[LookupNameCol].str.contains(r'\\bCOMMUNICATION\\b',regex=True),ClientTypeCol]='C'\n",
    "    df.loc[df[LookupNameCol].str.contains(r'\\bACCESSORY\\b',regex=True),ClientTypeCol]='C'\n",
    "    df.loc[df[LookupNameCol].str.contains(r'\\bTELECOMMUNICATION\\b',regex=True),ClientTypeCol]='C'\n",
    "    df.loc[df[LookupNameCol].str.contains(r'\\bKERAJAAN MALAYSIA\\b',regex=True),ClientTypeCol]='C'\n",
    "    df.loc[df[LookupNameCol].str.contains(r'\\bPEMBANGUNAN\\b',regex=True),ClientTypeCol]='C'\n",
    "    df.loc[df[LookupNameCol].str.contains(r'\\bCONTRACTOR\\b',regex=True),ClientTypeCol]='C'\n",
    "    df.loc[df[LookupNameCol].str.contains(r'\\bELECTRICAL\\b',regex=True),ClientTypeCol]='C'\n",
    "    \n",
    "    #if Ends with:\n",
    "    df.loc[df[LookupNameCol].str.contains(r'BHD$',regex=True),ClientTypeCol]='C'\n",
    "    df.loc[df[LookupNameCol].str.contains(r'BROKERS$',regex=True),ClientTypeCol]='C'\n",
    "    df.loc[df[LookupNameCol].str.contains(r'CAPITAL$',regex=True),ClientTypeCol]='C'\n",
    "    df.loc[df[LookupNameCol].str.contains(r'FINANCIAL$',regex=True),ClientTypeCol]='C'\n",
    "    df.loc[df[LookupNameCol].str.contains(r'FREEDOM$',regex=True),ClientTypeCol]='C'\n",
    "    df.loc[df[LookupNameCol].str.contains(r'PLANNERS$',regex=True),ClientTypeCol]='C'\n",
    "    df.loc[df[LookupNameCol].str.contains(r'PLANNING$',regex=True),ClientTypeCol]='C'\n",
    "    df.loc[df[LookupNameCol].str.contains(r'RINGGITPLUS$',regex=True),ClientTypeCol]='C'\n",
    "    df.loc[df[LookupNameCol].str.contains(r'PARTNERS$',regex=True),ClientTypeCol]='C'\n",
    "    df.loc[df[LookupNameCol].str.contains(r'LEGACY$',regex=True),ClientTypeCol]='C'\n",
    "    df.loc[df[LookupNameCol].str.contains(r'SYSTEM$',regex=True),ClientTypeCol]='C'\n",
    "    df.loc[df[LookupNameCol].str.contains(r'DISTRIBUTION$',regex=True),ClientTypeCol]='C'\n",
    "    df.loc[df[LookupNameCol].str.contains(r'ADVISORS$',regex=True),ClientTypeCol]='C'\n",
    "    \n",
    "    df.loc[df[ClientTypeCol].str.contains(r'\\bC\\b',regex=True) &\n",
    "           (df[LookupNameCol].str.contains(r'\\bA/P\\b',regex=True) |\n",
    "            df[LookupNameCol].str.contains(r'\\bA/L\\b',regex=True) |\n",
    "            df[LookupNameCol].str.contains(r'\\bS/O\\b',regex=True) |\n",
    "            df[LookupNameCol].str.contains(r'\\bD/O\\b',regex=True) |\n",
    "            df[LookupNameCol].str.contains(r'\\bSINGH\\b',regex=True) |\n",
    "            df[LookupNameCol].str.contains(r'\\bAP\\b',regex=True) |\n",
    "            df[LookupNameCol].str.contains(r'\\bAL\\b',regex=True) |\n",
    "            df[LookupNameCol].str.contains(r'\\bBIN\\b',regex=True) |\n",
    "            df[LookupNameCol].str.contains(r'\\bSO\\b',regex=True) |\n",
    "            df[LookupNameCol].str.contains(r'\\bDO\\b',regex=True) |\n",
    "            df[LookupNameCol].str.contains(r'\\bBINTI\\b',regex=True)\n",
    "            )\n",
    "           ,ClientTypeCol]='' \n",
    "    \n",
    "    return df\n",
    "    "
   ]
  },
  {
   "cell_type": "markdown",
   "metadata": {},
   "source": [
    "## To execute"
   ]
  },
  {
   "cell_type": "code",
   "execution_count": null,
   "metadata": {},
   "outputs": [],
   "source": [
    "df = ClientTypeC(df,'{the name of your column that contains names}',\n",
    "                 '{the name of the column that provides the commercial column indicator}')"
   ]
  },
  {
   "cell_type": "code",
   "execution_count": null,
   "metadata": {},
   "outputs": [],
   "source": []
  },
  {
   "cell_type": "code",
   "execution_count": null,
   "metadata": {},
   "outputs": [],
   "source": []
  },
  {
   "cell_type": "code",
   "execution_count": null,
   "metadata": {},
   "outputs": [],
   "source": []
  },
  {
   "cell_type": "markdown",
   "metadata": {},
   "source": [
    "(Not used or tested yet)Convert multiple datetime columns into date columns"
   ]
  },
  {
   "cell_type": "code",
   "execution_count": null,
   "metadata": {},
   "outputs": [],
   "source": [
    "def ConvertDateTimeIntoDate(df, DateTimeCol):\n",
    "    for col in DateTimeCol:\n",
    "        TempCol = 'T_' + col\n",
    "        df.rename(columns = {col: TempCol}, inplace = True)\n",
    "        df[col] = pd.DatetimeIndex(df[TempCol]).date\n",
    "        df.drop([TempCol], axis = 1, inplace = True)\n",
    "\n",
    "ConvertDateTimeIntoDate(GI_AgentList, DateTimeCol)"
   ]
  },
  {
   "cell_type": "markdown",
   "metadata": {},
   "source": [
    " To Execute"
   ]
  },
  {
   "cell_type": "code",
   "execution_count": 1,
   "metadata": {},
   "outputs": [],
   "source": [
    "DateTimeCol = ['Col1','Col2','Col3']\n",
    "ConvertDateTimeIntoDate(YourdfName, DateTimeCol)"
   ]
  },
  {
   "cell_type": "code",
   "execution_count": null,
   "metadata": {},
   "outputs": [],
   "source": []
  },
  {
   "cell_type": "code",
   "execution_count": null,
   "metadata": {},
   "outputs": [],
   "source": []
  },
  {
   "cell_type": "markdown",
   "metadata": {},
   "source": [
    "# To Import all macros"
   ]
  },
  {
   "cell_type": "markdown",
   "metadata": {},
   "source": [
    "Note: This should produce a message 'Import Common Macros Complete!' if it is executed correctly."
   ]
  },
  {
   "cell_type": "code",
   "execution_count": null,
   "metadata": {},
   "outputs": [],
   "source": [
    "exec(open(r'C:\\Users\\Grace.Choo\\OneDrive - Zurich APAC\\Projects\\Python Project\\202210 Convert SAS Code to Python Code Azure Migration\\Common Macros.py').read())"
   ]
  }
 ],
 "metadata": {
  "kernelspec": {
   "display_name": "Python 3",
   "language": "python",
   "name": "python3"
  },
  "language_info": {
   "codemirror_mode": {
    "name": "ipython",
    "version": 3
   },
   "file_extension": ".py",
   "mimetype": "text/x-python",
   "name": "python",
   "nbconvert_exporter": "python",
   "pygments_lexer": "ipython3",
   "version": "3.7.3"
  },
  "toc": {
   "base_numbering": 1,
   "nav_menu": {},
   "number_sections": true,
   "sideBar": true,
   "skip_h1_title": false,
   "title_cell": "Table of Contents",
   "title_sidebar": "Contents",
   "toc_cell": false,
   "toc_position": {
    "height": "calc(100% - 180px)",
    "left": "10px",
    "top": "150px",
    "width": "273.188px"
   },
   "toc_section_display": true,
   "toc_window_display": true
  }
 },
 "nbformat": 4,
 "nbformat_minor": 2
}
